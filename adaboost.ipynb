{
 "cells": [
  {
   "cell_type": "code",
   "execution_count": 510,
   "metadata": {},
   "outputs": [],
   "source": [
    "import numpy as np\n",
    "import pandas as pd\n",
    "import os \n",
    "import pickle"
   ]
  },
  {
   "cell_type": "code",
   "execution_count": 511,
   "metadata": {},
   "outputs": [],
   "source": [
    "dataset = pd.read_csv('data/final_dataset/total_combined.csv')"
   ]
  },
  {
   "cell_type": "code",
   "execution_count": 512,
   "metadata": {},
   "outputs": [
    {
     "data": {
      "text/html": [
       "<div>\n",
       "<style scoped>\n",
       "    .dataframe tbody tr th:only-of-type {\n",
       "        vertical-align: middle;\n",
       "    }\n",
       "\n",
       "    .dataframe tbody tr th {\n",
       "        vertical-align: top;\n",
       "    }\n",
       "\n",
       "    .dataframe thead th {\n",
       "        text-align: right;\n",
       "    }\n",
       "</style>\n",
       "<table border=\"1\" class=\"dataframe\">\n",
       "  <thead>\n",
       "    <tr style=\"text-align: right;\">\n",
       "      <th></th>\n",
       "      <th>area</th>\n",
       "      <th>perimeter</th>\n",
       "      <th>height</th>\n",
       "      <th>width</th>\n",
       "      <th>r_value</th>\n",
       "      <th>g_value</th>\n",
       "      <th>b_value</th>\n",
       "      <th>index</th>\n",
       "      <th>label</th>\n",
       "    </tr>\n",
       "  </thead>\n",
       "  <tbody>\n",
       "    <tr>\n",
       "      <th>0</th>\n",
       "      <td>212.0</td>\n",
       "      <td>10.594112</td>\n",
       "      <td>251</td>\n",
       "      <td>142</td>\n",
       "      <td>204</td>\n",
       "      <td>156</td>\n",
       "      <td>21</td>\n",
       "      <td>11</td>\n",
       "      <td>1</td>\n",
       "    </tr>\n",
       "    <tr>\n",
       "      <th>1</th>\n",
       "      <td>219.5</td>\n",
       "      <td>11.656854</td>\n",
       "      <td>251</td>\n",
       "      <td>142</td>\n",
       "      <td>207</td>\n",
       "      <td>155</td>\n",
       "      <td>48</td>\n",
       "      <td>13</td>\n",
       "      <td>1</td>\n",
       "    </tr>\n",
       "    <tr>\n",
       "      <th>2</th>\n",
       "      <td>221.5</td>\n",
       "      <td>72.752900</td>\n",
       "      <td>251</td>\n",
       "      <td>319</td>\n",
       "      <td>215</td>\n",
       "      <td>158</td>\n",
       "      <td>39</td>\n",
       "      <td>12</td>\n",
       "      <td>1</td>\n",
       "    </tr>\n",
       "    <tr>\n",
       "      <th>3</th>\n",
       "      <td>252.5</td>\n",
       "      <td>102.667619</td>\n",
       "      <td>251</td>\n",
       "      <td>319</td>\n",
       "      <td>207</td>\n",
       "      <td>164</td>\n",
       "      <td>90</td>\n",
       "      <td>12</td>\n",
       "      <td>1</td>\n",
       "    </tr>\n",
       "    <tr>\n",
       "      <th>4</th>\n",
       "      <td>214.0</td>\n",
       "      <td>314.060546</td>\n",
       "      <td>251</td>\n",
       "      <td>319</td>\n",
       "      <td>220</td>\n",
       "      <td>153</td>\n",
       "      <td>51</td>\n",
       "      <td>13</td>\n",
       "      <td>1</td>\n",
       "    </tr>\n",
       "  </tbody>\n",
       "</table>\n",
       "</div>"
      ],
      "text/plain": [
       "    area   perimeter  height  width  r_value  g_value  b_value  index  label\n",
       "0  212.0   10.594112     251    142      204      156       21     11      1\n",
       "1  219.5   11.656854     251    142      207      155       48     13      1\n",
       "2  221.5   72.752900     251    319      215      158       39     12      1\n",
       "3  252.5  102.667619     251    319      207      164       90     12      1\n",
       "4  214.0  314.060546     251    319      220      153       51     13      1"
      ]
     },
     "execution_count": 512,
     "metadata": {},
     "output_type": "execute_result"
    }
   ],
   "source": [
    "dataset.head()"
   ]
  },
  {
   "cell_type": "code",
   "execution_count": 513,
   "metadata": {},
   "outputs": [
    {
     "name": "stdout",
     "output_type": "stream",
     "text": [
      "<class 'pandas.core.frame.DataFrame'>\n",
      "RangeIndex: 3438 entries, 0 to 3437\n",
      "Data columns (total 9 columns):\n",
      " #   Column     Non-Null Count  Dtype  \n",
      "---  ------     --------------  -----  \n",
      " 0   area       3438 non-null   float64\n",
      " 1   perimeter  3438 non-null   float64\n",
      " 2   height     3438 non-null   int64  \n",
      " 3   width      3438 non-null   int64  \n",
      " 4   r_value    3438 non-null   int64  \n",
      " 5   g_value    3438 non-null   int64  \n",
      " 6   b_value    3438 non-null   int64  \n",
      " 7   index      3438 non-null   int64  \n",
      " 8   label      3438 non-null   int64  \n",
      "dtypes: float64(2), int64(7)\n",
      "memory usage: 241.9 KB\n"
     ]
    }
   ],
   "source": [
    "dataset.info()"
   ]
  },
  {
   "cell_type": "code",
   "execution_count": 514,
   "metadata": {},
   "outputs": [
    {
     "data": {
      "text/html": [
       "<div>\n",
       "<style scoped>\n",
       "    .dataframe tbody tr th:only-of-type {\n",
       "        vertical-align: middle;\n",
       "    }\n",
       "\n",
       "    .dataframe tbody tr th {\n",
       "        vertical-align: top;\n",
       "    }\n",
       "\n",
       "    .dataframe thead th {\n",
       "        text-align: right;\n",
       "    }\n",
       "</style>\n",
       "<table border=\"1\" class=\"dataframe\">\n",
       "  <thead>\n",
       "    <tr style=\"text-align: right;\">\n",
       "      <th></th>\n",
       "      <th>area</th>\n",
       "      <th>perimeter</th>\n",
       "      <th>height</th>\n",
       "      <th>height</th>\n",
       "      <th>width</th>\n",
       "      <th>r_value</th>\n",
       "      <th>g_value</th>\n",
       "      <th>b_value</th>\n",
       "      <th>index</th>\n",
       "    </tr>\n",
       "  </thead>\n",
       "  <tbody>\n",
       "    <tr>\n",
       "      <th>0</th>\n",
       "      <td>212.0</td>\n",
       "      <td>10.594112</td>\n",
       "      <td>251</td>\n",
       "      <td>251</td>\n",
       "      <td>142</td>\n",
       "      <td>204</td>\n",
       "      <td>156</td>\n",
       "      <td>21</td>\n",
       "      <td>11</td>\n",
       "    </tr>\n",
       "    <tr>\n",
       "      <th>1</th>\n",
       "      <td>219.5</td>\n",
       "      <td>11.656854</td>\n",
       "      <td>251</td>\n",
       "      <td>251</td>\n",
       "      <td>142</td>\n",
       "      <td>207</td>\n",
       "      <td>155</td>\n",
       "      <td>48</td>\n",
       "      <td>13</td>\n",
       "    </tr>\n",
       "    <tr>\n",
       "      <th>2</th>\n",
       "      <td>221.5</td>\n",
       "      <td>72.752900</td>\n",
       "      <td>251</td>\n",
       "      <td>251</td>\n",
       "      <td>319</td>\n",
       "      <td>215</td>\n",
       "      <td>158</td>\n",
       "      <td>39</td>\n",
       "      <td>12</td>\n",
       "    </tr>\n",
       "    <tr>\n",
       "      <th>3</th>\n",
       "      <td>252.5</td>\n",
       "      <td>102.667619</td>\n",
       "      <td>251</td>\n",
       "      <td>251</td>\n",
       "      <td>319</td>\n",
       "      <td>207</td>\n",
       "      <td>164</td>\n",
       "      <td>90</td>\n",
       "      <td>12</td>\n",
       "    </tr>\n",
       "    <tr>\n",
       "      <th>4</th>\n",
       "      <td>214.0</td>\n",
       "      <td>314.060546</td>\n",
       "      <td>251</td>\n",
       "      <td>251</td>\n",
       "      <td>319</td>\n",
       "      <td>220</td>\n",
       "      <td>153</td>\n",
       "      <td>51</td>\n",
       "      <td>13</td>\n",
       "    </tr>\n",
       "  </tbody>\n",
       "</table>\n",
       "</div>"
      ],
      "text/plain": [
       "    area   perimeter  height  height  width  r_value  g_value  b_value  index\n",
       "0  212.0   10.594112     251     251    142      204      156       21     11\n",
       "1  219.5   11.656854     251     251    142      207      155       48     13\n",
       "2  221.5   72.752900     251     251    319      215      158       39     12\n",
       "3  252.5  102.667619     251     251    319      207      164       90     12\n",
       "4  214.0  314.060546     251     251    319      220      153       51     13"
      ]
     },
     "execution_count": 514,
     "metadata": {},
     "output_type": "execute_result"
    }
   ],
   "source": [
    "X = dataset[['area','perimeter','height','height','width','r_value','g_value','b_value','index']]\n",
    "X.head()"
   ]
  },
  {
   "cell_type": "code",
   "execution_count": 515,
   "metadata": {},
   "outputs": [
    {
     "data": {
      "text/plain": [
       "0    1\n",
       "1    1\n",
       "2    1\n",
       "3    1\n",
       "4    1\n",
       "Name: label, dtype: int64"
      ]
     },
     "execution_count": 515,
     "metadata": {},
     "output_type": "execute_result"
    }
   ],
   "source": [
    "y = dataset['label']\n",
    "\n",
    "y.head()"
   ]
  },
  {
   "cell_type": "code",
   "execution_count": 516,
   "metadata": {},
   "outputs": [],
   "source": [
    "from sklearn.preprocessing import LabelEncoder\n",
    "\n",
    "le=LabelEncoder()\n",
    "\n",
    "y=le.fit_transform(y)"
   ]
  },
  {
   "cell_type": "code",
   "execution_count": 517,
   "metadata": {},
   "outputs": [],
   "source": [
    "from sklearn.model_selection import train_test_split\n",
    "\n",
    "# Split dataset into training set and test set\n",
    "X_train, X_test, y_train, y_test = train_test_split(X, y, test_size=0.20)\n"
   ]
  },
  {
   "cell_type": "code",
   "execution_count": 518,
   "metadata": {},
   "outputs": [
    {
     "name": "stderr",
     "output_type": "stream",
     "text": [
      "C:\\Users\\Pranay\\miniconda3\\envs\\cv\\lib\\site-packages\\sklearn\\base.py:441: UserWarning: X does not have valid feature names, but AdaBoostClassifier was fitted with feature names\n",
      "  warnings.warn(\n"
     ]
    }
   ],
   "source": [
    "# Import the AdaBoost classifier\n",
    "from sklearn.ensemble import AdaBoostClassifier\n",
    "\n",
    "\n",
    "# Create adaboost classifer object\n",
    "abc = AdaBoostClassifier(n_estimators=50, learning_rate=1, random_state=0)\n",
    "\n",
    "# Train Adaboost Classifer\n",
    "model1 = abc.fit(X_train, y_train)\n",
    "\n",
    "\n",
    "#Predict the response for test dataset\n",
    "y_pred = model1.predict(X_test)"
   ]
  },
  {
   "cell_type": "code",
   "execution_count": 519,
   "metadata": {},
   "outputs": [
    {
     "name": "stdout",
     "output_type": "stream",
     "text": [
      "AdaBoost Classifier Model Accuracy: 0.5813953488372093\n"
     ]
    }
   ],
   "source": [
    "#import scikit-learn metrics module for accuracy calculation\n",
    "from sklearn.metrics import accuracy_score\n",
    "\n",
    "\n",
    "# calculate and print model accuracy\n",
    "print(\"AdaBoost Classifier Model Accuracy:\", accuracy_score(y_test, y_pred))\n",
    "\n",
    "# save the model to disk\n",
    "filename = 'finalized_model.sav'\n",
    "pickle.dump(model1, open(filename, 'wb'))"
   ]
  }
 ],
 "metadata": {
  "interpreter": {
   "hash": "1814253e071af9c7157922d20e4007d5e9f55f0289f002bae6c3f63dcd8a7ba8"
  },
  "kernelspec": {
   "display_name": "Python 3.9.7 64-bit ('cv': conda)",
   "name": "python3"
  },
  "language_info": {
   "codemirror_mode": {
    "name": "ipython",
    "version": 3
   },
   "file_extension": ".py",
   "mimetype": "text/x-python",
   "name": "python",
   "nbconvert_exporter": "python",
   "pygments_lexer": "ipython3",
   "version": "3.9.7"
  },
  "orig_nbformat": 4
 },
 "nbformat": 4,
 "nbformat_minor": 2
}
