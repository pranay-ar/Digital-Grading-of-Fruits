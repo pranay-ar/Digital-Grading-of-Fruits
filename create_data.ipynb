{
 "cells": [
  {
   "cell_type": "code",
   "execution_count": 9,
   "metadata": {},
   "outputs": [],
   "source": [
    "import numpy as np\n",
    "import pandas as pd\n",
    "import os\n",
    "import shutil "
   ]
  },
  {
   "cell_type": "code",
   "execution_count": 33,
   "metadata": {},
   "outputs": [
    {
     "data": {
      "text/html": [
       "<div>\n",
       "<style scoped>\n",
       "    .dataframe tbody tr th:only-of-type {\n",
       "        vertical-align: middle;\n",
       "    }\n",
       "\n",
       "    .dataframe tbody tr th {\n",
       "        vertical-align: top;\n",
       "    }\n",
       "\n",
       "    .dataframe thead th {\n",
       "        text-align: right;\n",
       "    }\n",
       "</style>\n",
       "<table border=\"1\" class=\"dataframe\">\n",
       "  <thead>\n",
       "    <tr style=\"text-align: right;\">\n",
       "      <th></th>\n",
       "      <th>index</th>\n",
       "      <th>rvalue</th>\n",
       "      <th>g_value</th>\n",
       "      <th>b_value</th>\n",
       "      <th>path</th>\n",
       "    </tr>\n",
       "  </thead>\n",
       "  <tbody>\n",
       "    <tr>\n",
       "      <th>0</th>\n",
       "      <td>1</td>\n",
       "      <td>233</td>\n",
       "      <td>133</td>\n",
       "      <td>89</td>\n",
       "      <td>data_v2/raw_val/grade1_75.jpg</td>\n",
       "    </tr>\n",
       "    <tr>\n",
       "      <th>1</th>\n",
       "      <td>2</td>\n",
       "      <td>233</td>\n",
       "      <td>144</td>\n",
       "      <td>15</td>\n",
       "      <td>data_v2/raw_val/grade3_12.jpg</td>\n",
       "    </tr>\n",
       "    <tr>\n",
       "      <th>2</th>\n",
       "      <td>3</td>\n",
       "      <td>232</td>\n",
       "      <td>148</td>\n",
       "      <td>21</td>\n",
       "      <td>data_v2/raw_val/grade4_22.jpg</td>\n",
       "    </tr>\n",
       "    <tr>\n",
       "      <th>3</th>\n",
       "      <td>4</td>\n",
       "      <td>231</td>\n",
       "      <td>151</td>\n",
       "      <td>69</td>\n",
       "      <td>data_v2/raw_val/grade8_65.jpg</td>\n",
       "    </tr>\n",
       "    <tr>\n",
       "      <th>4</th>\n",
       "      <td>5</td>\n",
       "      <td>230</td>\n",
       "      <td>152</td>\n",
       "      <td>25</td>\n",
       "      <td>data_v2/raw_val/grade2_18.jpg</td>\n",
       "    </tr>\n",
       "  </tbody>\n",
       "</table>\n",
       "</div>"
      ],
      "text/plain": [
       "   index  rvalue  g_value  b_value                           path\n",
       "0      1     233      133       89  data_v2/raw_val/grade1_75.jpg\n",
       "1      2     233      144       15  data_v2/raw_val/grade3_12.jpg\n",
       "2      3     232      148       21  data_v2/raw_val/grade4_22.jpg\n",
       "3      4     231      151       69  data_v2/raw_val/grade8_65.jpg\n",
       "4      5     230      152       25  data_v2/raw_val/grade2_18.jpg"
      ]
     },
     "execution_count": 33,
     "metadata": {},
     "output_type": "execute_result"
    }
   ],
   "source": [
    "dataset = pd.read_csv('data_v2/val.csv')\n",
    "dataset.head()"
   ]
  },
  {
   "cell_type": "code",
   "execution_count": null,
   "metadata": {},
   "outputs": [],
   "source": [
    "i=571\n",
    "while i < 685:\n",
    "    shutil.move(dataset['path'][i],'data_v2/val/6')\n",
    "    i+=1"
   ]
  }
 ],
 "metadata": {
  "interpreter": {
   "hash": "1814253e071af9c7157922d20e4007d5e9f55f0289f002bae6c3f63dcd8a7ba8"
  },
  "kernelspec": {
   "display_name": "Python 3.9.7 64-bit ('cv': conda)",
   "name": "python3"
  },
  "language_info": {
   "codemirror_mode": {
    "name": "ipython",
    "version": 3
   },
   "file_extension": ".py",
   "mimetype": "text/x-python",
   "name": "python",
   "nbconvert_exporter": "python",
   "pygments_lexer": "ipython3",
   "version": "3.9.7"
  },
  "orig_nbformat": 4
 },
 "nbformat": 4,
 "nbformat_minor": 2
}
